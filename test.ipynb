{
 "cells": [
  {
   "cell_type": "code",
   "execution_count": 1,
   "metadata": {},
   "outputs": [],
   "source": [
    "import os\n",
    "import requests\n",
    "\n",
    "QWEN_AGENT_API_URL = \"http://127.0.0.1:11434\"  # Qwen-Agent가 실행 중인 주소\n",
    "MODEL_NAME = \"qwen3:8b\"\n",
    "\n",
    "\n",
    "def query_qwen(prompt):\n",
    "    payload = {\n",
    "        \"model\": MODEL_NAME,\n",
    "        \"prompt\": prompt,\n",
    "        \"temperature\": 0.7,\n",
    "        \"top_p\": 0.9,\n",
    "        \"max_tokens\": 512\n",
    "    }\n",
    "    response = requests.post(QWEN_AGENT_API_URL, json=payload)\n",
    "    if response.status_code == 200:\n",
    "        return response.json().get(\"text\", \"\").strip()\n",
    "    else:\n",
    "        raise Exception(f\"Qwen-Agent 호출 실패: {response.status_code} - {response.text}\")\n",
    "      \n",
    "query_qwen('hello')"
   ]
  },
  {
   "cell_type": "code",
   "execution_count": 1,
   "metadata": {},
   "outputs": [
    {
     "ename": "gaierror",
     "evalue": "[Errno 8] nodename nor servname provided, or not known",
     "output_type": "error",
     "traceback": [
      "\u001b[31m---------------------------------------------------------------------------\u001b[39m",
      "\u001b[31mgaierror\u001b[39m                                  Traceback (most recent call last)",
      "\u001b[36mCell\u001b[39m\u001b[36m \u001b[39m\u001b[32mIn[1]\u001b[39m\u001b[32m, line 7\u001b[39m\n\u001b[32m      4\u001b[39m PORT = \u001b[32m3001\u001b[39m\n\u001b[32m      6\u001b[39m \u001b[38;5;28;01mwith\u001b[39;00m socket.socket(socket.AF_INET, socket.SOCK_STREAM) \u001b[38;5;28;01mas\u001b[39;00m s:\n\u001b[32m----> \u001b[39m\u001b[32m7\u001b[39m     \u001b[43ms\u001b[49m\u001b[43m.\u001b[49m\u001b[43mconnect\u001b[49m\u001b[43m(\u001b[49m\u001b[43m(\u001b[49m\u001b[43mHOST\u001b[49m\u001b[43m,\u001b[49m\u001b[43m \u001b[49m\u001b[43mPORT\u001b[49m\u001b[43m)\u001b[49m\u001b[43m)\u001b[49m\n\u001b[32m      8\u001b[39m     status_message = \u001b[33m'\u001b[39m\u001b[33m작업 상태: 완료\u001b[39m\u001b[33m'\u001b[39m\n\u001b[32m      9\u001b[39m     s.sendall(status_message.encode())\n",
      "\u001b[31mgaierror\u001b[39m: [Errno 8] nodename nor servname provided, or not known"
     ]
    }
   ],
   "source": [
    "import socket\n",
    "\n",
    "HOST = 'ws\"//localhost'\n",
    "PORT = 3001\n",
    "\n",
    "with socket.socket(socket.AF_INET, socket.SOCK_STREAM) as s:\n",
    "    s.connect((HOST, PORT))\n",
    "    status_message = '작업 상태: 완료'\n",
    "    s.sendall(status_message.encode())\n",
    "\n",
    "    data = s.recv(1024)\n",
    "    print('서버 응답:', data.decode())"
   ]
  },
  {
   "cell_type": "code",
   "execution_count": 2,
   "metadata": {},
   "outputs": [
    {
     "name": "stdout",
     "output_type": "stream",
     "text": [
      "Requirement already satisfied: websocket-client in ./venv/lib/python3.11/site-packages (1.8.0)\n",
      "\n",
      "\u001b[1m[\u001b[0m\u001b[34;49mnotice\u001b[0m\u001b[1;39;49m]\u001b[0m\u001b[39;49m A new release of pip available: \u001b[0m\u001b[31;49m22.3.1\u001b[0m\u001b[39;49m -> \u001b[0m\u001b[32;49m25.1.1\u001b[0m\n",
      "\u001b[1m[\u001b[0m\u001b[34;49mnotice\u001b[0m\u001b[1;39;49m]\u001b[0m\u001b[39;49m To update, run: \u001b[0m\u001b[32;49mpip install --upgrade pip\u001b[0m\n"
     ]
    }
   ],
   "source": [
    "!pip install websocket-client"
   ]
  },
  {
   "cell_type": "code",
   "execution_count": 35,
   "metadata": {},
   "outputs": [
    {
     "name": "stdout",
     "output_type": "stream",
     "text": [
      "에러 발생: [Errno 61] Connection refused\n",
      "WebSocket 연결 종료\n"
     ]
    }
   ],
   "source": [
    "import websocket\n",
    "import json\n",
    "\n",
    "def on_open(ws):\n",
    "    print(\"WebSocket 연결 성공\")\n",
    "\n",
    "def on_message(ws, message):\n",
    "    data = json.loads(message)\n",
    "    print(\"수신 메시지:\", data)\n",
    "    if data.get('type') == 'id':\n",
    "        print(\"할당된 ID:\", data['id'])\n",
    "\n",
    "def on_error(ws, error):\n",
    "    print(\"에러 발생:\", error)\n",
    "\n",
    "def on_close(ws, close_status_code, close_msg):\n",
    "    print(\"WebSocket 연결 종료\")\n",
    "\n",
    "if __name__ == \"__main__\":\n",
    "    # 웹소켓 서버 주소\n",
    "    ws_url = \"ws://localhost:3001\"\n",
    "\n",
    "    ws = websocket.WebSocketApp(\n",
    "        ws_url,\n",
    "        on_open=on_open,\n",
    "        on_message=on_message,\n",
    "        on_error=on_error,\n",
    "        on_close=on_close\n",
    "    )\n",
    "\n",
    "    ws.run_forever()"
   ]
  },
  {
   "cell_type": "code",
   "execution_count": 36,
   "metadata": {},
   "outputs": [
    {
     "name": "stdout",
     "output_type": "stream",
     "text": [
      "Collecting python-socketio\n",
      "  Downloading python_socketio-5.13.0-py3-none-any.whl (77 kB)\n",
      "\u001b[2K     \u001b[90m━━━━━━━━━━━━━━━━━━━━━━━━━━━━━━━━━━━━━━━━\u001b[0m \u001b[32m77.8/77.8 kB\u001b[0m \u001b[31m1.3 MB/s\u001b[0m eta \u001b[36m0:00:00\u001b[0ma \u001b[36m0:00:01\u001b[0m\n",
      "\u001b[?25hCollecting bidict>=0.21.0\n",
      "  Downloading bidict-0.23.1-py3-none-any.whl (32 kB)\n",
      "Collecting python-engineio>=4.11.0\n",
      "  Downloading python_engineio-4.12.1-py3-none-any.whl (59 kB)\n",
      "\u001b[2K     \u001b[90m━━━━━━━━━━━━━━━━━━━━━━━━━━━━━━━━━━━━━━━━\u001b[0m \u001b[32m59.3/59.3 kB\u001b[0m \u001b[31m1.7 MB/s\u001b[0m eta \u001b[36m0:00:00\u001b[0m\n",
      "\u001b[?25hCollecting simple-websocket>=0.10.0\n",
      "  Downloading simple_websocket-1.1.0-py3-none-any.whl (13 kB)\n",
      "Collecting wsproto\n",
      "  Downloading wsproto-1.2.0-py3-none-any.whl (24 kB)\n",
      "Requirement already satisfied: h11<1,>=0.9.0 in ./venv/lib/python3.11/site-packages (from wsproto->simple-websocket>=0.10.0->python-engineio>=4.11.0->python-socketio) (0.16.0)\n",
      "Installing collected packages: wsproto, bidict, simple-websocket, python-engineio, python-socketio\n",
      "Successfully installed bidict-0.23.1 python-engineio-4.12.1 python-socketio-5.13.0 simple-websocket-1.1.0 wsproto-1.2.0\n",
      "\n",
      "\u001b[1m[\u001b[0m\u001b[34;49mnotice\u001b[0m\u001b[1;39;49m]\u001b[0m\u001b[39;49m A new release of pip available: \u001b[0m\u001b[31;49m22.3.1\u001b[0m\u001b[39;49m -> \u001b[0m\u001b[32;49m25.1.1\u001b[0m\n",
      "\u001b[1m[\u001b[0m\u001b[34;49mnotice\u001b[0m\u001b[1;39;49m]\u001b[0m\u001b[39;49m To update, run: \u001b[0m\u001b[32;49mpip install --upgrade pip\u001b[0m\n"
     ]
    }
   ],
   "source": [
    "!pip install python-socketio"
   ]
  },
  {
   "cell_type": "code",
   "execution_count": 49,
   "metadata": {},
   "outputs": [
    {
     "ename": "ConnectionError",
     "evalue": "HTTPConnectionPool(host='localhost', port=3001): Max retries exceeded with url: /socket.io/?transport=polling&EIO=4&t=1748744029.0248342 (Caused by NewConnectionError('<urllib3.connection.HTTPConnection object at 0x105fbba50>: Failed to establish a new connection: [Errno 61] Connection refused'))",
     "output_type": "error",
     "traceback": [
      "\u001b[31m---------------------------------------------------------------------------\u001b[39m",
      "\u001b[31mConnectionError\u001b[39m                           Traceback (most recent call last)",
      "\u001b[36mFile \u001b[39m\u001b[32m~/MCP_TEST/qwen3-mcp/venv/lib/python3.11/site-packages/socketio/client.py:147\u001b[39m, in \u001b[36mClient.connect\u001b[39m\u001b[34m(self, url, headers, auth, transports, namespaces, socketio_path, wait, wait_timeout, retry)\u001b[39m\n\u001b[32m    146\u001b[39m \u001b[38;5;28;01mtry\u001b[39;00m:\n\u001b[32m--> \u001b[39m\u001b[32m147\u001b[39m     \u001b[38;5;28;43mself\u001b[39;49m\u001b[43m.\u001b[49m\u001b[43meio\u001b[49m\u001b[43m.\u001b[49m\u001b[43mconnect\u001b[49m\u001b[43m(\u001b[49m\u001b[43mreal_url\u001b[49m\u001b[43m,\u001b[49m\u001b[43m \u001b[49m\u001b[43mheaders\u001b[49m\u001b[43m=\u001b[49m\u001b[43mreal_headers\u001b[49m\u001b[43m,\u001b[49m\n\u001b[32m    148\u001b[39m \u001b[43m                     \u001b[49m\u001b[43mtransports\u001b[49m\u001b[43m=\u001b[49m\u001b[43mtransports\u001b[49m\u001b[43m,\u001b[49m\n\u001b[32m    149\u001b[39m \u001b[43m                     \u001b[49m\u001b[43mengineio_path\u001b[49m\u001b[43m=\u001b[49m\u001b[43msocketio_path\u001b[49m\u001b[43m)\u001b[49m\n\u001b[32m    150\u001b[39m \u001b[38;5;28;01mexcept\u001b[39;00m engineio.exceptions.ConnectionError \u001b[38;5;28;01mas\u001b[39;00m exc:\n",
      "\u001b[36mFile \u001b[39m\u001b[32m~/MCP_TEST/qwen3-mcp/venv/lib/python3.11/site-packages/engineio/client.py:95\u001b[39m, in \u001b[36mClient.connect\u001b[39m\u001b[34m(self, url, headers, transports, engineio_path)\u001b[39m\n\u001b[32m     94\u001b[39m \u001b[38;5;28mself\u001b[39m.queue = \u001b[38;5;28mself\u001b[39m.create_queue()\n\u001b[32m---> \u001b[39m\u001b[32m95\u001b[39m \u001b[38;5;28;01mreturn\u001b[39;00m \u001b[38;5;28;43mgetattr\u001b[39;49m\u001b[43m(\u001b[49m\u001b[38;5;28;43mself\u001b[39;49m\u001b[43m,\u001b[49m\u001b[43m \u001b[49m\u001b[33;43m'\u001b[39;49m\u001b[33;43m_connect_\u001b[39;49m\u001b[33;43m'\u001b[39;49m\u001b[43m \u001b[49m\u001b[43m+\u001b[49m\u001b[43m \u001b[49m\u001b[38;5;28;43mself\u001b[39;49m\u001b[43m.\u001b[49m\u001b[43mtransports\u001b[49m\u001b[43m[\u001b[49m\u001b[32;43m0\u001b[39;49m\u001b[43m]\u001b[49m\u001b[43m)\u001b[49m\u001b[43m(\u001b[49m\n\u001b[32m     96\u001b[39m \u001b[43m    \u001b[49m\u001b[43murl\u001b[49m\u001b[43m,\u001b[49m\u001b[43m \u001b[49m\u001b[43mheaders\u001b[49m\u001b[43m \u001b[49m\u001b[38;5;129;43;01mor\u001b[39;49;00m\u001b[43m \u001b[49m\u001b[43m{\u001b[49m\u001b[43m}\u001b[49m\u001b[43m,\u001b[49m\u001b[43m \u001b[49m\u001b[43mengineio_path\u001b[49m\u001b[43m)\u001b[49m\n",
      "\u001b[36mFile \u001b[39m\u001b[32m~/MCP_TEST/qwen3-mcp/venv/lib/python3.11/site-packages/engineio/client.py:187\u001b[39m, in \u001b[36mClient._connect_polling\u001b[39m\u001b[34m(self, url, headers, engineio_path)\u001b[39m\n\u001b[32m    186\u001b[39m     \u001b[38;5;28mself\u001b[39m._reset()\n\u001b[32m--> \u001b[39m\u001b[32m187\u001b[39m     \u001b[38;5;28;01mraise\u001b[39;00m exceptions.ConnectionError(\n\u001b[32m    188\u001b[39m         r \u001b[38;5;129;01mor\u001b[39;00m \u001b[33m'\u001b[39m\u001b[33mConnection refused by the server\u001b[39m\u001b[33m'\u001b[39m)\n\u001b[32m    189\u001b[39m \u001b[38;5;28;01mif\u001b[39;00m r.status_code < \u001b[32m200\u001b[39m \u001b[38;5;129;01mor\u001b[39;00m r.status_code >= \u001b[32m300\u001b[39m:\n",
      "\u001b[31mConnectionError\u001b[39m: HTTPConnectionPool(host='localhost', port=3001): Max retries exceeded with url: /socket.io/?transport=polling&EIO=4&t=1748744029.0248342 (Caused by NewConnectionError('<urllib3.connection.HTTPConnection object at 0x105fbba50>: Failed to establish a new connection: [Errno 61] Connection refused'))",
      "\nThe above exception was the direct cause of the following exception:\n",
      "\u001b[31mConnectionError\u001b[39m                           Traceback (most recent call last)",
      "\u001b[36mCell\u001b[39m\u001b[36m \u001b[39m\u001b[32mIn[49]\u001b[39m\u001b[32m, line 20\u001b[39m\n\u001b[32m     16\u001b[39m \u001b[38;5;129m@sio\u001b[39m.event\n\u001b[32m     17\u001b[39m \u001b[38;5;28;01mdef\u001b[39;00m\u001b[38;5;250m \u001b[39m\u001b[34mdisconnect\u001b[39m():\n\u001b[32m     18\u001b[39m     \u001b[38;5;28mprint\u001b[39m(\u001b[33m'\u001b[39m\u001b[33mdisconnected from server\u001b[39m\u001b[33m'\u001b[39m)\n\u001b[32m---> \u001b[39m\u001b[32m20\u001b[39m \u001b[43msio\u001b[49m\u001b[43m.\u001b[49m\u001b[43mconnect\u001b[49m\u001b[43m(\u001b[49m\u001b[33;43m'\u001b[39;49m\u001b[33;43mhttp://localhost:3001\u001b[39;49m\u001b[33;43m'\u001b[39;49m\u001b[43m)\u001b[49m\n",
      "\u001b[36mFile \u001b[39m\u001b[32m~/MCP_TEST/qwen3-mcp/venv/lib/python3.11/site-packages/socketio/client.py:159\u001b[39m, in \u001b[36mClient.connect\u001b[39m\u001b[34m(self, url, headers, auth, transports, namespaces, socketio_path, wait, wait_timeout, retry)\u001b[39m\n\u001b[32m    157\u001b[39m         \u001b[38;5;28;01mif\u001b[39;00m \u001b[38;5;28mself\u001b[39m.eio.state == \u001b[33m'\u001b[39m\u001b[33mconnected\u001b[39m\u001b[33m'\u001b[39m:\n\u001b[32m    158\u001b[39m             \u001b[38;5;28;01mreturn\u001b[39;00m\n\u001b[32m--> \u001b[39m\u001b[32m159\u001b[39m     \u001b[38;5;28;01mraise\u001b[39;00m exceptions.ConnectionError(exc.args[\u001b[32m0\u001b[39m]) \u001b[38;5;28;01mfrom\u001b[39;00m\u001b[38;5;250m \u001b[39m\u001b[34;01mexc\u001b[39;00m\n\u001b[32m    161\u001b[39m \u001b[38;5;28;01mif\u001b[39;00m wait:\n\u001b[32m    162\u001b[39m     \u001b[38;5;28;01mwhile\u001b[39;00m \u001b[38;5;28mself\u001b[39m._connect_event.wait(timeout=wait_timeout):\n",
      "\u001b[31mConnectionError\u001b[39m: HTTPConnectionPool(host='localhost', port=3001): Max retries exceeded with url: /socket.io/?transport=polling&EIO=4&t=1748744029.0248342 (Caused by NewConnectionError('<urllib3.connection.HTTPConnection object at 0x105fbba50>: Failed to establish a new connection: [Errno 61] Connection refused'))"
     ]
    }
   ],
   "source": [
    "import socketio\n",
    "\n",
    "# 클라이언트 인스턴스 생성\n",
    "sio = socketio.Client()\n",
    "\n",
    "@sio.event\n",
    "def connect():\n",
    "    print('connection established')\n",
    "    sio.send('hello world')\n",
    "\n",
    "@sio.event\n",
    "def reply(data):\n",
    "    print('reply received with ', data)\n",
    "    sio.disconnect()\n",
    "\n",
    "@sio.event\n",
    "def disconnect():\n",
    "    print('disconnected from server')\n",
    "\n",
    "sio.connect('http://localhost:3001')\n",
    "\n"
   ]
  },
  {
   "cell_type": "code",
   "execution_count": 43,
   "metadata": {},
   "outputs": [
    {
     "name": "stdout",
     "output_type": "stream",
     "text": [
      "Requirement already satisfied: python-socketio[client] in ./venv/lib/python3.11/site-packages (5.13.0)\n",
      "Requirement already satisfied: bidict>=0.21.0 in ./venv/lib/python3.11/site-packages (from python-socketio[client]) (0.23.1)\n",
      "Requirement already satisfied: python-engineio>=4.11.0 in ./venv/lib/python3.11/site-packages (from python-socketio[client]) (4.12.1)\n",
      "Requirement already satisfied: requests>=2.21.0 in ./venv/lib/python3.11/site-packages (from python-socketio[client]) (2.32.3)\n",
      "Requirement already satisfied: websocket-client>=0.54.0 in ./venv/lib/python3.11/site-packages (from python-socketio[client]) (1.8.0)\n",
      "Requirement already satisfied: simple-websocket>=0.10.0 in ./venv/lib/python3.11/site-packages (from python-engineio>=4.11.0->python-socketio[client]) (1.1.0)\n",
      "Requirement already satisfied: charset-normalizer<4,>=2 in ./venv/lib/python3.11/site-packages (from requests>=2.21.0->python-socketio[client]) (3.4.2)\n",
      "Requirement already satisfied: idna<4,>=2.5 in ./venv/lib/python3.11/site-packages (from requests>=2.21.0->python-socketio[client]) (3.10)\n",
      "Requirement already satisfied: urllib3<3,>=1.21.1 in ./venv/lib/python3.11/site-packages (from requests>=2.21.0->python-socketio[client]) (2.4.0)\n",
      "Requirement already satisfied: certifi>=2017.4.17 in ./venv/lib/python3.11/site-packages (from requests>=2.21.0->python-socketio[client]) (2025.4.26)\n",
      "Requirement already satisfied: wsproto in ./venv/lib/python3.11/site-packages (from simple-websocket>=0.10.0->python-engineio>=4.11.0->python-socketio[client]) (1.2.0)\n",
      "Requirement already satisfied: h11<1,>=0.9.0 in ./venv/lib/python3.11/site-packages (from wsproto->simple-websocket>=0.10.0->python-engineio>=4.11.0->python-socketio[client]) (0.16.0)\n",
      "\n",
      "\u001b[1m[\u001b[0m\u001b[34;49mnotice\u001b[0m\u001b[1;39;49m]\u001b[0m\u001b[39;49m A new release of pip available: \u001b[0m\u001b[31;49m22.3.1\u001b[0m\u001b[39;49m -> \u001b[0m\u001b[32;49m25.1.1\u001b[0m\n",
      "\u001b[1m[\u001b[0m\u001b[34;49mnotice\u001b[0m\u001b[1;39;49m]\u001b[0m\u001b[39;49m To update, run: \u001b[0m\u001b[32;49mpip install --upgrade pip\u001b[0m\n"
     ]
    }
   ],
   "source": [
    "!pip install \"python-socketio[client]\""
   ]
  },
  {
   "cell_type": "code",
   "execution_count": 47,
   "metadata": {},
   "outputs": [
    {
     "ename": "ConnectionError",
     "evalue": "HTTPConnectionPool(host='localhost', port=3001): Max retries exceeded with url: /api/socket/io/?transport=polling&EIO=4&t=1748744009.267647 (Caused by NewConnectionError('<urllib3.connection.HTTPConnection object at 0x10496ea10>: Failed to establish a new connection: [Errno 61] Connection refused'))",
     "output_type": "error",
     "traceback": [
      "\u001b[31m---------------------------------------------------------------------------\u001b[39m",
      "\u001b[31mConnectionError\u001b[39m                           Traceback (most recent call last)",
      "\u001b[36mFile \u001b[39m\u001b[32m~/MCP_TEST/qwen3-mcp/venv/lib/python3.11/site-packages/socketio/client.py:147\u001b[39m, in \u001b[36mClient.connect\u001b[39m\u001b[34m(self, url, headers, auth, transports, namespaces, socketio_path, wait, wait_timeout, retry)\u001b[39m\n\u001b[32m    146\u001b[39m \u001b[38;5;28;01mtry\u001b[39;00m:\n\u001b[32m--> \u001b[39m\u001b[32m147\u001b[39m     \u001b[38;5;28;43mself\u001b[39;49m\u001b[43m.\u001b[49m\u001b[43meio\u001b[49m\u001b[43m.\u001b[49m\u001b[43mconnect\u001b[49m\u001b[43m(\u001b[49m\u001b[43mreal_url\u001b[49m\u001b[43m,\u001b[49m\u001b[43m \u001b[49m\u001b[43mheaders\u001b[49m\u001b[43m=\u001b[49m\u001b[43mreal_headers\u001b[49m\u001b[43m,\u001b[49m\n\u001b[32m    148\u001b[39m \u001b[43m                     \u001b[49m\u001b[43mtransports\u001b[49m\u001b[43m=\u001b[49m\u001b[43mtransports\u001b[49m\u001b[43m,\u001b[49m\n\u001b[32m    149\u001b[39m \u001b[43m                     \u001b[49m\u001b[43mengineio_path\u001b[49m\u001b[43m=\u001b[49m\u001b[43msocketio_path\u001b[49m\u001b[43m)\u001b[49m\n\u001b[32m    150\u001b[39m \u001b[38;5;28;01mexcept\u001b[39;00m engineio.exceptions.ConnectionError \u001b[38;5;28;01mas\u001b[39;00m exc:\n",
      "\u001b[36mFile \u001b[39m\u001b[32m~/MCP_TEST/qwen3-mcp/venv/lib/python3.11/site-packages/engineio/client.py:95\u001b[39m, in \u001b[36mClient.connect\u001b[39m\u001b[34m(self, url, headers, transports, engineio_path)\u001b[39m\n\u001b[32m     94\u001b[39m \u001b[38;5;28mself\u001b[39m.queue = \u001b[38;5;28mself\u001b[39m.create_queue()\n\u001b[32m---> \u001b[39m\u001b[32m95\u001b[39m \u001b[38;5;28;01mreturn\u001b[39;00m \u001b[38;5;28;43mgetattr\u001b[39;49m\u001b[43m(\u001b[49m\u001b[38;5;28;43mself\u001b[39;49m\u001b[43m,\u001b[49m\u001b[43m \u001b[49m\u001b[33;43m'\u001b[39;49m\u001b[33;43m_connect_\u001b[39;49m\u001b[33;43m'\u001b[39;49m\u001b[43m \u001b[49m\u001b[43m+\u001b[49m\u001b[43m \u001b[49m\u001b[38;5;28;43mself\u001b[39;49m\u001b[43m.\u001b[49m\u001b[43mtransports\u001b[49m\u001b[43m[\u001b[49m\u001b[32;43m0\u001b[39;49m\u001b[43m]\u001b[49m\u001b[43m)\u001b[49m\u001b[43m(\u001b[49m\n\u001b[32m     96\u001b[39m \u001b[43m    \u001b[49m\u001b[43murl\u001b[49m\u001b[43m,\u001b[49m\u001b[43m \u001b[49m\u001b[43mheaders\u001b[49m\u001b[43m \u001b[49m\u001b[38;5;129;43;01mor\u001b[39;49;00m\u001b[43m \u001b[49m\u001b[43m{\u001b[49m\u001b[43m}\u001b[49m\u001b[43m,\u001b[49m\u001b[43m \u001b[49m\u001b[43mengineio_path\u001b[49m\u001b[43m)\u001b[49m\n",
      "\u001b[36mFile \u001b[39m\u001b[32m~/MCP_TEST/qwen3-mcp/venv/lib/python3.11/site-packages/engineio/client.py:187\u001b[39m, in \u001b[36mClient._connect_polling\u001b[39m\u001b[34m(self, url, headers, engineio_path)\u001b[39m\n\u001b[32m    186\u001b[39m     \u001b[38;5;28mself\u001b[39m._reset()\n\u001b[32m--> \u001b[39m\u001b[32m187\u001b[39m     \u001b[38;5;28;01mraise\u001b[39;00m exceptions.ConnectionError(\n\u001b[32m    188\u001b[39m         r \u001b[38;5;129;01mor\u001b[39;00m \u001b[33m'\u001b[39m\u001b[33mConnection refused by the server\u001b[39m\u001b[33m'\u001b[39m)\n\u001b[32m    189\u001b[39m \u001b[38;5;28;01mif\u001b[39;00m r.status_code < \u001b[32m200\u001b[39m \u001b[38;5;129;01mor\u001b[39;00m r.status_code >= \u001b[32m300\u001b[39m:\n",
      "\u001b[31mConnectionError\u001b[39m: HTTPConnectionPool(host='localhost', port=3001): Max retries exceeded with url: /api/socket/io/?transport=polling&EIO=4&t=1748744009.267647 (Caused by NewConnectionError('<urllib3.connection.HTTPConnection object at 0x10496ea10>: Failed to establish a new connection: [Errno 61] Connection refused'))",
      "\nThe above exception was the direct cause of the following exception:\n",
      "\u001b[31mConnectionError\u001b[39m                           Traceback (most recent call last)",
      "\u001b[36mCell\u001b[39m\u001b[36m \u001b[39m\u001b[32mIn[47]\u001b[39m\u001b[32m, line 21\u001b[39m\n\u001b[32m     18\u001b[39m     \u001b[38;5;28mprint\u001b[39m(\u001b[33m'\u001b[39m\u001b[33m📩 서버로부터 받은 메시지:\u001b[39m\u001b[33m'\u001b[39m, data)\n\u001b[32m     20\u001b[39m \u001b[38;5;66;03m# 실제 서버에 연결 (포트, 경로, 호스트는 Next.js 설정에 맞게)\u001b[39;00m\n\u001b[32m---> \u001b[39m\u001b[32m21\u001b[39m \u001b[43msio\u001b[49m\u001b[43m.\u001b[49m\u001b[43mconnect\u001b[49m\u001b[43m(\u001b[49m\u001b[33;43m'\u001b[39;49m\u001b[33;43mhttp://localhost:3001\u001b[39;49m\u001b[33;43m'\u001b[39;49m\u001b[43m,\u001b[49m\u001b[43m \u001b[49m\u001b[43msocketio_path\u001b[49m\u001b[43m=\u001b[49m\u001b[33;43m'\u001b[39;49m\u001b[33;43m/api/socket/io\u001b[39;49m\u001b[33;43m'\u001b[39;49m\u001b[43m)\u001b[49m\n\u001b[32m     23\u001b[39m \u001b[38;5;66;03m# 테스트: 10초 동안 대기한 후 종료\u001b[39;00m\n\u001b[32m     24\u001b[39m \u001b[38;5;28;01mimport\u001b[39;00m\u001b[38;5;250m \u001b[39m\u001b[34;01mtime\u001b[39;00m\n",
      "\u001b[36mFile \u001b[39m\u001b[32m~/MCP_TEST/qwen3-mcp/venv/lib/python3.11/site-packages/socketio/client.py:159\u001b[39m, in \u001b[36mClient.connect\u001b[39m\u001b[34m(self, url, headers, auth, transports, namespaces, socketio_path, wait, wait_timeout, retry)\u001b[39m\n\u001b[32m    157\u001b[39m         \u001b[38;5;28;01mif\u001b[39;00m \u001b[38;5;28mself\u001b[39m.eio.state == \u001b[33m'\u001b[39m\u001b[33mconnected\u001b[39m\u001b[33m'\u001b[39m:\n\u001b[32m    158\u001b[39m             \u001b[38;5;28;01mreturn\u001b[39;00m\n\u001b[32m--> \u001b[39m\u001b[32m159\u001b[39m     \u001b[38;5;28;01mraise\u001b[39;00m exceptions.ConnectionError(exc.args[\u001b[32m0\u001b[39m]) \u001b[38;5;28;01mfrom\u001b[39;00m\u001b[38;5;250m \u001b[39m\u001b[34;01mexc\u001b[39;00m\n\u001b[32m    161\u001b[39m \u001b[38;5;28;01mif\u001b[39;00m wait:\n\u001b[32m    162\u001b[39m     \u001b[38;5;28;01mwhile\u001b[39;00m \u001b[38;5;28mself\u001b[39m._connect_event.wait(timeout=wait_timeout):\n",
      "\u001b[31mConnectionError\u001b[39m: HTTPConnectionPool(host='localhost', port=3001): Max retries exceeded with url: /api/socket/io/?transport=polling&EIO=4&t=1748744009.267647 (Caused by NewConnectionError('<urllib3.connection.HTTPConnection object at 0x10496ea10>: Failed to establish a new connection: [Errno 61] Connection refused'))"
     ]
    }
   ],
   "source": [
    "import socketio\n",
    "\n",
    "# Socket.IO 클라이언트 인스턴스 생성\n",
    "sio = socketio.Client()\n",
    "\n",
    "# 서버로부터 메시지를 받을 때 처리할 이벤트 등록\n",
    "@sio.event\n",
    "def connect():\n",
    "    print('✅ 연결됨!')\n",
    "\n",
    "@sio.event\n",
    "def disconnect():\n",
    "    print('❌ 연결 종료됨.')\n",
    "\n",
    "# 서버에서 특정 이벤트가 전송될 경우\n",
    "@sio.on('your_custom_event')  # 예: 'message', 'notification', etc.\n",
    "def handle_custom_event(data):\n",
    "    print('📩 서버로부터 받은 메시지:', data)\n",
    "\n",
    "# 실제 서버에 연결 (포트, 경로, 호스트는 Next.js 설정에 맞게)\n",
    "sio.connect('http://localhost:3001', socketio_path='/api/socket/io')\n",
    "\n",
    "# 테스트: 10초 동안 대기한 후 종료\n",
    "import time\n",
    "time.sleep(10)\n",
    "\n",
    "# 연결 종료\n",
    "sio.disconnect()"
   ]
  },
  {
   "cell_type": "code",
   "execution_count": 21,
   "metadata": {},
   "outputs": [
    {
     "ename": "ValueError",
     "evalue": "Invalid empty packet received",
     "output_type": "error",
     "traceback": [
      "\u001b[31m---------------------------------------------------------------------------\u001b[39m",
      "\u001b[31mValueError\u001b[39m                                Traceback (most recent call last)",
      "\u001b[36mCell\u001b[39m\u001b[36m \u001b[39m\u001b[32mIn[21]\u001b[39m\u001b[32m, line 25\u001b[39m\n\u001b[32m     21\u001b[39m \u001b[38;5;129m@sio\u001b[39m.event\n\u001b[32m     22\u001b[39m \u001b[38;5;28;01mdef\u001b[39;00m\u001b[38;5;250m \u001b[39m\u001b[34mdisconnect\u001b[39m():\n\u001b[32m     23\u001b[39m     \u001b[38;5;28mprint\u001b[39m(\u001b[33m'\u001b[39m\u001b[33mDisconnected from server\u001b[39m\u001b[33m'\u001b[39m)\n\u001b[32m---> \u001b[39m\u001b[32m25\u001b[39m \u001b[43msio\u001b[49m\u001b[43m.\u001b[49m\u001b[43mconnect\u001b[49m\u001b[43m(\u001b[49m\u001b[33;43m'\u001b[39;49m\u001b[33;43mhttp://localhost:3001\u001b[39;49m\u001b[33;43m'\u001b[39;49m\u001b[43m)\u001b[49m\n\u001b[32m     26\u001b[39m sio.wait()\n",
      "\u001b[36mFile \u001b[39m\u001b[32m~/MCP_TEST/qwen3-mcp/venv/lib/python3.11/site-packages/socketio/client.py:147\u001b[39m, in \u001b[36mClient.connect\u001b[39m\u001b[34m(self, url, headers, auth, transports, namespaces, socketio_path, wait, wait_timeout, retry)\u001b[39m\n\u001b[32m    145\u001b[39m real_headers = \u001b[38;5;28mself\u001b[39m._get_real_value(\u001b[38;5;28mself\u001b[39m.connection_headers)\n\u001b[32m    146\u001b[39m \u001b[38;5;28;01mtry\u001b[39;00m:\n\u001b[32m--> \u001b[39m\u001b[32m147\u001b[39m     \u001b[38;5;28;43mself\u001b[39;49m\u001b[43m.\u001b[49m\u001b[43meio\u001b[49m\u001b[43m.\u001b[49m\u001b[43mconnect\u001b[49m\u001b[43m(\u001b[49m\u001b[43mreal_url\u001b[49m\u001b[43m,\u001b[49m\u001b[43m \u001b[49m\u001b[43mheaders\u001b[49m\u001b[43m=\u001b[49m\u001b[43mreal_headers\u001b[49m\u001b[43m,\u001b[49m\n\u001b[32m    148\u001b[39m \u001b[43m                     \u001b[49m\u001b[43mtransports\u001b[49m\u001b[43m=\u001b[49m\u001b[43mtransports\u001b[49m\u001b[43m,\u001b[49m\n\u001b[32m    149\u001b[39m \u001b[43m                     \u001b[49m\u001b[43mengineio_path\u001b[49m\u001b[43m=\u001b[49m\u001b[43msocketio_path\u001b[49m\u001b[43m)\u001b[49m\n\u001b[32m    150\u001b[39m \u001b[38;5;28;01mexcept\u001b[39;00m engineio.exceptions.ConnectionError \u001b[38;5;28;01mas\u001b[39;00m exc:\n\u001b[32m    151\u001b[39m     \u001b[38;5;28;01mfor\u001b[39;00m n \u001b[38;5;129;01min\u001b[39;00m \u001b[38;5;28mself\u001b[39m.connection_namespaces:\n",
      "\u001b[36mFile \u001b[39m\u001b[32m~/MCP_TEST/qwen3-mcp/venv/lib/python3.11/site-packages/engineio/client.py:95\u001b[39m, in \u001b[36mClient.connect\u001b[39m\u001b[34m(self, url, headers, transports, engineio_path)\u001b[39m\n\u001b[32m     93\u001b[39m \u001b[38;5;28mself\u001b[39m.transports = transports \u001b[38;5;129;01mor\u001b[39;00m valid_transports\n\u001b[32m     94\u001b[39m \u001b[38;5;28mself\u001b[39m.queue = \u001b[38;5;28mself\u001b[39m.create_queue()\n\u001b[32m---> \u001b[39m\u001b[32m95\u001b[39m \u001b[38;5;28;01mreturn\u001b[39;00m \u001b[38;5;28;43mgetattr\u001b[39;49m\u001b[43m(\u001b[49m\u001b[38;5;28;43mself\u001b[39;49m\u001b[43m,\u001b[49m\u001b[43m \u001b[49m\u001b[33;43m'\u001b[39;49m\u001b[33;43m_connect_\u001b[39;49m\u001b[33;43m'\u001b[39;49m\u001b[43m \u001b[49m\u001b[43m+\u001b[49m\u001b[43m \u001b[49m\u001b[38;5;28;43mself\u001b[39;49m\u001b[43m.\u001b[49m\u001b[43mtransports\u001b[49m\u001b[43m[\u001b[49m\u001b[32;43m0\u001b[39;49m\u001b[43m]\u001b[49m\u001b[43m)\u001b[49m\u001b[43m(\u001b[49m\n\u001b[32m     96\u001b[39m \u001b[43m    \u001b[49m\u001b[43murl\u001b[49m\u001b[43m,\u001b[49m\u001b[43m \u001b[49m\u001b[43mheaders\u001b[49m\u001b[43m \u001b[49m\u001b[38;5;129;43;01mor\u001b[39;49;00m\u001b[43m \u001b[49m\u001b[43m{\u001b[49m\u001b[43m}\u001b[49m\u001b[43m,\u001b[49m\u001b[43m \u001b[49m\u001b[43mengineio_path\u001b[49m\u001b[43m)\u001b[49m\n",
      "\u001b[36mFile \u001b[39m\u001b[32m~/MCP_TEST/qwen3-mcp/venv/lib/python3.11/site-packages/engineio/client.py:225\u001b[39m, in \u001b[36mClient._connect_polling\u001b[39m\u001b[34m(self, url, headers, engineio_path)\u001b[39m\n\u001b[32m    221\u001b[39m     \u001b[38;5;28mself\u001b[39m._receive_packet(pkt)\n\u001b[32m    223\u001b[39m \u001b[38;5;28;01mif\u001b[39;00m \u001b[33m'\u001b[39m\u001b[33mwebsocket\u001b[39m\u001b[33m'\u001b[39m \u001b[38;5;129;01min\u001b[39;00m \u001b[38;5;28mself\u001b[39m.upgrades \u001b[38;5;129;01mand\u001b[39;00m \u001b[33m'\u001b[39m\u001b[33mwebsocket\u001b[39m\u001b[33m'\u001b[39m \u001b[38;5;129;01min\u001b[39;00m \u001b[38;5;28mself\u001b[39m.transports:\n\u001b[32m    224\u001b[39m     \u001b[38;5;66;03m# attempt to upgrade to websocket\u001b[39;00m\n\u001b[32m--> \u001b[39m\u001b[32m225\u001b[39m     \u001b[38;5;28;01mif\u001b[39;00m \u001b[38;5;28;43mself\u001b[39;49m\u001b[43m.\u001b[49m\u001b[43m_connect_websocket\u001b[49m\u001b[43m(\u001b[49m\u001b[43murl\u001b[49m\u001b[43m,\u001b[49m\u001b[43m \u001b[49m\u001b[43mheaders\u001b[49m\u001b[43m,\u001b[49m\u001b[43m \u001b[49m\u001b[43mengineio_path\u001b[49m\u001b[43m)\u001b[49m:\n\u001b[32m    226\u001b[39m         \u001b[38;5;66;03m# upgrade to websocket succeeded, we're done here\u001b[39;00m\n\u001b[32m    227\u001b[39m         \u001b[38;5;28;01mreturn\u001b[39;00m\n\u001b[32m    229\u001b[39m \u001b[38;5;66;03m# start background tasks associated with this client\u001b[39;00m\n",
      "\u001b[36mFile \u001b[39m\u001b[32m~/MCP_TEST/qwen3-mcp/venv/lib/python3.11/site-packages/engineio/client.py:356\u001b[39m, in \u001b[36mClient._connect_websocket\u001b[39m\u001b[34m(self, url, headers, engineio_path)\u001b[39m\n\u001b[32m    352\u001b[39m     \u001b[38;5;28mself\u001b[39m.logger.warning(\n\u001b[32m    353\u001b[39m         \u001b[33m'\u001b[39m\u001b[33mWebSocket upgrade failed: unexpected recv exception: \u001b[39m\u001b[38;5;132;01m%s\u001b[39;00m\u001b[33m'\u001b[39m,\n\u001b[32m    354\u001b[39m         \u001b[38;5;28mstr\u001b[39m(e))\n\u001b[32m    355\u001b[39m     \u001b[38;5;28;01mreturn\u001b[39;00m \u001b[38;5;28;01mFalse\u001b[39;00m\n\u001b[32m--> \u001b[39m\u001b[32m356\u001b[39m pkt = \u001b[43mpacket\u001b[49m\u001b[43m.\u001b[49m\u001b[43mPacket\u001b[49m\u001b[43m(\u001b[49m\u001b[43mencoded_packet\u001b[49m\u001b[43m=\u001b[49m\u001b[43mp\u001b[49m\u001b[43m)\u001b[49m\n\u001b[32m    357\u001b[39m \u001b[38;5;28;01mif\u001b[39;00m pkt.packet_type != packet.PONG \u001b[38;5;129;01mor\u001b[39;00m pkt.data != \u001b[33m'\u001b[39m\u001b[33mprobe\u001b[39m\u001b[33m'\u001b[39m:\n\u001b[32m    358\u001b[39m     \u001b[38;5;28mself\u001b[39m.logger.warning(\n\u001b[32m    359\u001b[39m         \u001b[33m'\u001b[39m\u001b[33mWebSocket upgrade failed: no PONG packet\u001b[39m\u001b[33m'\u001b[39m)\n",
      "\u001b[36mFile \u001b[39m\u001b[32m~/MCP_TEST/qwen3-mcp/venv/lib/python3.11/site-packages/engineio/packet.py:28\u001b[39m, in \u001b[36mPacket.__init__\u001b[39m\u001b[34m(self, packet_type, data, encoded_packet)\u001b[39m\n\u001b[32m     26\u001b[39m     \u001b[38;5;28;01mraise\u001b[39;00m \u001b[38;5;167;01mValueError\u001b[39;00m(\u001b[33m'\u001b[39m\u001b[33mBinary packets can only be of type MESSAGE\u001b[39m\u001b[33m'\u001b[39m)\n\u001b[32m     27\u001b[39m \u001b[38;5;28;01mif\u001b[39;00m encoded_packet \u001b[38;5;129;01mis\u001b[39;00m \u001b[38;5;129;01mnot\u001b[39;00m \u001b[38;5;28;01mNone\u001b[39;00m:\n\u001b[32m---> \u001b[39m\u001b[32m28\u001b[39m     \u001b[38;5;28;43mself\u001b[39;49m\u001b[43m.\u001b[49m\u001b[43mdecode\u001b[49m\u001b[43m(\u001b[49m\u001b[43mencoded_packet\u001b[49m\u001b[43m)\u001b[49m\n",
      "\u001b[36mFile \u001b[39m\u001b[32m~/MCP_TEST/qwen3-mcp/venv/lib/python3.11/site-packages/engineio/packet.py:60\u001b[39m, in \u001b[36mPacket.decode\u001b[39m\u001b[34m(self, encoded_packet)\u001b[39m\n\u001b[32m     58\u001b[39m \u001b[38;5;28mself\u001b[39m.binary = \u001b[38;5;28misinstance\u001b[39m(encoded_packet, binary_types)\n\u001b[32m     59\u001b[39m \u001b[38;5;28;01mif\u001b[39;00m \u001b[38;5;129;01mnot\u001b[39;00m \u001b[38;5;28mself\u001b[39m.binary \u001b[38;5;129;01mand\u001b[39;00m \u001b[38;5;28mlen\u001b[39m(encoded_packet) == \u001b[32m0\u001b[39m:\n\u001b[32m---> \u001b[39m\u001b[32m60\u001b[39m     \u001b[38;5;28;01mraise\u001b[39;00m \u001b[38;5;167;01mValueError\u001b[39;00m(\u001b[33m'\u001b[39m\u001b[33mInvalid empty packet received\u001b[39m\u001b[33m'\u001b[39m)\n\u001b[32m     61\u001b[39m b64 = \u001b[38;5;129;01mnot\u001b[39;00m \u001b[38;5;28mself\u001b[39m.binary \u001b[38;5;129;01mand\u001b[39;00m encoded_packet[\u001b[32m0\u001b[39m] == \u001b[33m'\u001b[39m\u001b[33mb\u001b[39m\u001b[33m'\u001b[39m\n\u001b[32m     62\u001b[39m \u001b[38;5;28;01mif\u001b[39;00m b64:\n",
      "\u001b[31mValueError\u001b[39m: Invalid empty packet received"
     ]
    }
   ],
   "source": [
    "import socketio\n",
    "import uuid  # 고유 ID 생성을 위한 라이브러리\n",
    "\n",
    "# 고유 클라이언트 ID 설정 (직접 지정하거나 uuid로 자동 생성 가능)\n",
    "CLIENT_ID = \"TEST_SERVER\"  # 직접 지정\n",
    "UUID = str(uuid.uuid4())  # 자동 생성 시 사용\n",
    "\n",
    "sio = socketio.Client()\n",
    "\n",
    "@sio.event\n",
    "def connect():\n",
    "    print(f'Connected to server as {CLIENT_ID} {UUID}')\n",
    "    \n",
    "    # 서버에 식별자 포함해서 메시지 전송\n",
    "    sio.emit('message_from_python', {\n",
    "        'CLIENT': CLIENT_ID,\n",
    "        'MSG': 'Hello from Python with ID!',\n",
    "        'UUID': UUID\n",
    "    })\n",
    "\n",
    "@sio.event\n",
    "def disconnect():\n",
    "    print('Disconnected from server')\n",
    "\n",
    "sio.connect('http://localhost:3001')\n",
    "sio.wait()"
   ]
  },
  {
   "cell_type": "code",
   "execution_count": 14,
   "metadata": {},
   "outputs": [
    {
     "ename": "ValueError",
     "evalue": "Invalid empty packet received",
     "output_type": "error",
     "traceback": [
      "\u001b[31m---------------------------------------------------------------------------\u001b[39m",
      "\u001b[31mValueError\u001b[39m                                Traceback (most recent call last)",
      "\u001b[36mCell\u001b[39m\u001b[36m \u001b[39m\u001b[32mIn[14]\u001b[39m\u001b[32m, line 40\u001b[39m\n\u001b[32m     36\u001b[39m \u001b[38;5;129m@sio\u001b[39m.event\n\u001b[32m     37\u001b[39m \u001b[38;5;28;01mdef\u001b[39;00m\u001b[38;5;250m \u001b[39m\u001b[34mdisconnect\u001b[39m():\n\u001b[32m     38\u001b[39m     \u001b[38;5;28mprint\u001b[39m(\u001b[33m'\u001b[39m\u001b[33mDisconnected from server\u001b[39m\u001b[33m'\u001b[39m)\n\u001b[32m---> \u001b[39m\u001b[32m40\u001b[39m \u001b[43msio\u001b[49m\u001b[43m.\u001b[49m\u001b[43mconnect\u001b[49m\u001b[43m(\u001b[49m\u001b[33;43m'\u001b[39;49m\u001b[33;43mhttp://localhost:3001\u001b[39;49m\u001b[33;43m'\u001b[39;49m\u001b[43m)\u001b[49m\n\u001b[32m     41\u001b[39m sio.wait()\n",
      "\u001b[36mFile \u001b[39m\u001b[32m~/MCP_TEST/qwen3-mcp/venv/lib/python3.11/site-packages/socketio/client.py:147\u001b[39m, in \u001b[36mClient.connect\u001b[39m\u001b[34m(self, url, headers, auth, transports, namespaces, socketio_path, wait, wait_timeout, retry)\u001b[39m\n\u001b[32m    145\u001b[39m real_headers = \u001b[38;5;28mself\u001b[39m._get_real_value(\u001b[38;5;28mself\u001b[39m.connection_headers)\n\u001b[32m    146\u001b[39m \u001b[38;5;28;01mtry\u001b[39;00m:\n\u001b[32m--> \u001b[39m\u001b[32m147\u001b[39m     \u001b[38;5;28;43mself\u001b[39;49m\u001b[43m.\u001b[49m\u001b[43meio\u001b[49m\u001b[43m.\u001b[49m\u001b[43mconnect\u001b[49m\u001b[43m(\u001b[49m\u001b[43mreal_url\u001b[49m\u001b[43m,\u001b[49m\u001b[43m \u001b[49m\u001b[43mheaders\u001b[49m\u001b[43m=\u001b[49m\u001b[43mreal_headers\u001b[49m\u001b[43m,\u001b[49m\n\u001b[32m    148\u001b[39m \u001b[43m                     \u001b[49m\u001b[43mtransports\u001b[49m\u001b[43m=\u001b[49m\u001b[43mtransports\u001b[49m\u001b[43m,\u001b[49m\n\u001b[32m    149\u001b[39m \u001b[43m                     \u001b[49m\u001b[43mengineio_path\u001b[49m\u001b[43m=\u001b[49m\u001b[43msocketio_path\u001b[49m\u001b[43m)\u001b[49m\n\u001b[32m    150\u001b[39m \u001b[38;5;28;01mexcept\u001b[39;00m engineio.exceptions.ConnectionError \u001b[38;5;28;01mas\u001b[39;00m exc:\n\u001b[32m    151\u001b[39m     \u001b[38;5;28;01mfor\u001b[39;00m n \u001b[38;5;129;01min\u001b[39;00m \u001b[38;5;28mself\u001b[39m.connection_namespaces:\n",
      "\u001b[36mFile \u001b[39m\u001b[32m~/MCP_TEST/qwen3-mcp/venv/lib/python3.11/site-packages/engineio/client.py:95\u001b[39m, in \u001b[36mClient.connect\u001b[39m\u001b[34m(self, url, headers, transports, engineio_path)\u001b[39m\n\u001b[32m     93\u001b[39m \u001b[38;5;28mself\u001b[39m.transports = transports \u001b[38;5;129;01mor\u001b[39;00m valid_transports\n\u001b[32m     94\u001b[39m \u001b[38;5;28mself\u001b[39m.queue = \u001b[38;5;28mself\u001b[39m.create_queue()\n\u001b[32m---> \u001b[39m\u001b[32m95\u001b[39m \u001b[38;5;28;01mreturn\u001b[39;00m \u001b[38;5;28;43mgetattr\u001b[39;49m\u001b[43m(\u001b[49m\u001b[38;5;28;43mself\u001b[39;49m\u001b[43m,\u001b[49m\u001b[43m \u001b[49m\u001b[33;43m'\u001b[39;49m\u001b[33;43m_connect_\u001b[39;49m\u001b[33;43m'\u001b[39;49m\u001b[43m \u001b[49m\u001b[43m+\u001b[49m\u001b[43m \u001b[49m\u001b[38;5;28;43mself\u001b[39;49m\u001b[43m.\u001b[49m\u001b[43mtransports\u001b[49m\u001b[43m[\u001b[49m\u001b[32;43m0\u001b[39;49m\u001b[43m]\u001b[49m\u001b[43m)\u001b[49m\u001b[43m(\u001b[49m\n\u001b[32m     96\u001b[39m \u001b[43m    \u001b[49m\u001b[43murl\u001b[49m\u001b[43m,\u001b[49m\u001b[43m \u001b[49m\u001b[43mheaders\u001b[49m\u001b[43m \u001b[49m\u001b[38;5;129;43;01mor\u001b[39;49;00m\u001b[43m \u001b[49m\u001b[43m{\u001b[49m\u001b[43m}\u001b[49m\u001b[43m,\u001b[49m\u001b[43m \u001b[49m\u001b[43mengineio_path\u001b[49m\u001b[43m)\u001b[49m\n",
      "\u001b[36mFile \u001b[39m\u001b[32m~/MCP_TEST/qwen3-mcp/venv/lib/python3.11/site-packages/engineio/client.py:225\u001b[39m, in \u001b[36mClient._connect_polling\u001b[39m\u001b[34m(self, url, headers, engineio_path)\u001b[39m\n\u001b[32m    221\u001b[39m     \u001b[38;5;28mself\u001b[39m._receive_packet(pkt)\n\u001b[32m    223\u001b[39m \u001b[38;5;28;01mif\u001b[39;00m \u001b[33m'\u001b[39m\u001b[33mwebsocket\u001b[39m\u001b[33m'\u001b[39m \u001b[38;5;129;01min\u001b[39;00m \u001b[38;5;28mself\u001b[39m.upgrades \u001b[38;5;129;01mand\u001b[39;00m \u001b[33m'\u001b[39m\u001b[33mwebsocket\u001b[39m\u001b[33m'\u001b[39m \u001b[38;5;129;01min\u001b[39;00m \u001b[38;5;28mself\u001b[39m.transports:\n\u001b[32m    224\u001b[39m     \u001b[38;5;66;03m# attempt to upgrade to websocket\u001b[39;00m\n\u001b[32m--> \u001b[39m\u001b[32m225\u001b[39m     \u001b[38;5;28;01mif\u001b[39;00m \u001b[38;5;28;43mself\u001b[39;49m\u001b[43m.\u001b[49m\u001b[43m_connect_websocket\u001b[49m\u001b[43m(\u001b[49m\u001b[43murl\u001b[49m\u001b[43m,\u001b[49m\u001b[43m \u001b[49m\u001b[43mheaders\u001b[49m\u001b[43m,\u001b[49m\u001b[43m \u001b[49m\u001b[43mengineio_path\u001b[49m\u001b[43m)\u001b[49m:\n\u001b[32m    226\u001b[39m         \u001b[38;5;66;03m# upgrade to websocket succeeded, we're done here\u001b[39;00m\n\u001b[32m    227\u001b[39m         \u001b[38;5;28;01mreturn\u001b[39;00m\n\u001b[32m    229\u001b[39m \u001b[38;5;66;03m# start background tasks associated with this client\u001b[39;00m\n",
      "\u001b[36mFile \u001b[39m\u001b[32m~/MCP_TEST/qwen3-mcp/venv/lib/python3.11/site-packages/engineio/client.py:356\u001b[39m, in \u001b[36mClient._connect_websocket\u001b[39m\u001b[34m(self, url, headers, engineio_path)\u001b[39m\n\u001b[32m    352\u001b[39m     \u001b[38;5;28mself\u001b[39m.logger.warning(\n\u001b[32m    353\u001b[39m         \u001b[33m'\u001b[39m\u001b[33mWebSocket upgrade failed: unexpected recv exception: \u001b[39m\u001b[38;5;132;01m%s\u001b[39;00m\u001b[33m'\u001b[39m,\n\u001b[32m    354\u001b[39m         \u001b[38;5;28mstr\u001b[39m(e))\n\u001b[32m    355\u001b[39m     \u001b[38;5;28;01mreturn\u001b[39;00m \u001b[38;5;28;01mFalse\u001b[39;00m\n\u001b[32m--> \u001b[39m\u001b[32m356\u001b[39m pkt = \u001b[43mpacket\u001b[49m\u001b[43m.\u001b[49m\u001b[43mPacket\u001b[49m\u001b[43m(\u001b[49m\u001b[43mencoded_packet\u001b[49m\u001b[43m=\u001b[49m\u001b[43mp\u001b[49m\u001b[43m)\u001b[49m\n\u001b[32m    357\u001b[39m \u001b[38;5;28;01mif\u001b[39;00m pkt.packet_type != packet.PONG \u001b[38;5;129;01mor\u001b[39;00m pkt.data != \u001b[33m'\u001b[39m\u001b[33mprobe\u001b[39m\u001b[33m'\u001b[39m:\n\u001b[32m    358\u001b[39m     \u001b[38;5;28mself\u001b[39m.logger.warning(\n\u001b[32m    359\u001b[39m         \u001b[33m'\u001b[39m\u001b[33mWebSocket upgrade failed: no PONG packet\u001b[39m\u001b[33m'\u001b[39m)\n",
      "\u001b[36mFile \u001b[39m\u001b[32m~/MCP_TEST/qwen3-mcp/venv/lib/python3.11/site-packages/engineio/packet.py:28\u001b[39m, in \u001b[36mPacket.__init__\u001b[39m\u001b[34m(self, packet_type, data, encoded_packet)\u001b[39m\n\u001b[32m     26\u001b[39m     \u001b[38;5;28;01mraise\u001b[39;00m \u001b[38;5;167;01mValueError\u001b[39;00m(\u001b[33m'\u001b[39m\u001b[33mBinary packets can only be of type MESSAGE\u001b[39m\u001b[33m'\u001b[39m)\n\u001b[32m     27\u001b[39m \u001b[38;5;28;01mif\u001b[39;00m encoded_packet \u001b[38;5;129;01mis\u001b[39;00m \u001b[38;5;129;01mnot\u001b[39;00m \u001b[38;5;28;01mNone\u001b[39;00m:\n\u001b[32m---> \u001b[39m\u001b[32m28\u001b[39m     \u001b[38;5;28;43mself\u001b[39;49m\u001b[43m.\u001b[49m\u001b[43mdecode\u001b[49m\u001b[43m(\u001b[49m\u001b[43mencoded_packet\u001b[49m\u001b[43m)\u001b[49m\n",
      "\u001b[36mFile \u001b[39m\u001b[32m~/MCP_TEST/qwen3-mcp/venv/lib/python3.11/site-packages/engineio/packet.py:60\u001b[39m, in \u001b[36mPacket.decode\u001b[39m\u001b[34m(self, encoded_packet)\u001b[39m\n\u001b[32m     58\u001b[39m \u001b[38;5;28mself\u001b[39m.binary = \u001b[38;5;28misinstance\u001b[39m(encoded_packet, binary_types)\n\u001b[32m     59\u001b[39m \u001b[38;5;28;01mif\u001b[39;00m \u001b[38;5;129;01mnot\u001b[39;00m \u001b[38;5;28mself\u001b[39m.binary \u001b[38;5;129;01mand\u001b[39;00m \u001b[38;5;28mlen\u001b[39m(encoded_packet) == \u001b[32m0\u001b[39m:\n\u001b[32m---> \u001b[39m\u001b[32m60\u001b[39m     \u001b[38;5;28;01mraise\u001b[39;00m \u001b[38;5;167;01mValueError\u001b[39;00m(\u001b[33m'\u001b[39m\u001b[33mInvalid empty packet received\u001b[39m\u001b[33m'\u001b[39m)\n\u001b[32m     61\u001b[39m b64 = \u001b[38;5;129;01mnot\u001b[39;00m \u001b[38;5;28mself\u001b[39m.binary \u001b[38;5;129;01mand\u001b[39;00m encoded_packet[\u001b[32m0\u001b[39m] == \u001b[33m'\u001b[39m\u001b[33mb\u001b[39m\u001b[33m'\u001b[39m\n\u001b[32m     62\u001b[39m \u001b[38;5;28;01mif\u001b[39;00m b64:\n",
      "\u001b[31mValueError\u001b[39m: Invalid empty packet received"
     ]
    }
   ],
   "source": [
    "import socketio\n",
    "import socket\n",
    "import uuid\n",
    "import time\n",
    "import threading\n",
    "\n",
    "CLIENT_ID = \"client_1234\"\n",
    "def get_my_ip():\n",
    "    s = socket.socket(socket.AF_INET, socket.SOCK_DGRAM)\n",
    "    try:\n",
    "        s.connect((\"8.8.8.8\", 80))\n",
    "        ip = s.getsockname()[0]\n",
    "    except Exception:\n",
    "        ip = \"127.0.0.1\"\n",
    "    finally:\n",
    "        s.close()\n",
    "    return ip\n",
    "\n",
    "CLIENT_IP = get_my_ip()\n",
    "sio = socketio.Client()\n",
    "\n",
    "def send_ping():\n",
    "    while True:\n",
    "        sio.emit('client_ping', {\n",
    "            'client_id': CLIENT_ID,\n",
    "            'ip': CLIENT_IP,\n",
    "            'timestamp': time.time()\n",
    "        })\n",
    "        time.sleep(5)  # 5초마다 ping\n",
    "\n",
    "@sio.event\n",
    "def connect():\n",
    "    print('Connected to server')\n",
    "    threading.Thread(target=send_ping, daemon=True).start()\n",
    "\n",
    "@sio.event\n",
    "def disconnect():\n",
    "    print('Disconnected from server')\n",
    "\n",
    "sio.connect('http://localhost:3001')\n",
    "sio.wait()"
   ]
  },
  {
   "cell_type": "code",
   "execution_count": null,
   "metadata": {},
   "outputs": [],
   "source": [
    "import socketio\n",
    "import uuid  # 고유 ID 생성을 위한 라이브러리\n",
    "\n",
    "# 고유 클라이언트 ID 설정 (직접 지정하거나 uuid로 자동 생성 가능)\n",
    "CLIENT_ID = \"client_1234\"  # 직접 지정\n",
    "# CLIENT_ID = str(uuid.uuid4())  # 자동 생성 시 사용\n",
    "\n",
    "sio = socketio.Client()\n",
    "\n",
    "@sio.event\n",
    "def connect():\n",
    "    print(f'Connected to server as {CLIENT_ID} {UUID}')\n",
    "    \n",
    "    # 서버에 식별자 포함해서 메시지 전송\n",
    "    sio.emit('message_from_python', {\n",
    "        'client_id': CLIENT_ID,\n",
    "        'msg': 'Hello from Python with ID!'\n",
    "    })\n",
    "\n",
    "@sio.event\n",
    "def disconnect():\n",
    "    print('Disconnected from server')\n",
    "\n",
    "sio.connect('http://localhost:3001')\n",
    "sio.wait()"
   ]
  }
 ],
 "metadata": {
  "kernelspec": {
   "display_name": "venv",
   "language": "python",
   "name": "python3"
  },
  "language_info": {
   "codemirror_mode": {
    "name": "ipython",
    "version": 3
   },
   "file_extension": ".py",
   "mimetype": "text/x-python",
   "name": "python",
   "nbconvert_exporter": "python",
   "pygments_lexer": "ipython3",
   "version": "3.11.1"
  }
 },
 "nbformat": 4,
 "nbformat_minor": 2
}
